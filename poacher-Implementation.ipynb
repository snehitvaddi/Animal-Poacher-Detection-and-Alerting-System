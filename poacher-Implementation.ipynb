{
 "cells": [
  {
   "cell_type": "code",
   "execution_count": 8,
   "metadata": {},
   "outputs": [
    {
     "data": {
      "application/javascript": [
       "window.require && require([\"base/js/namespace\"],function(Jupyter){Jupyter.notebook.save_checkpoint()})"
      ],
      "text/plain": [
       "<IPython.core.display.Javascript object>"
      ]
     },
     "metadata": {},
     "output_type": "display_data"
    },
    {
     "name": "stdout",
     "output_type": "stream",
     "text": [
      "[jovian] Attempting to save notebook..\n",
      "[jovian] Updating notebook \"v-snehith999/implementation\" on https://jovian.ml/\n",
      "[jovian] Uploading notebook..\n",
      "[jovian] Committed successfully! https://jovian.ml/v-snehith999/implementation\n"
     ]
    },
    {
     "data": {
      "text/plain": [
       "'https://jovian.ml/v-snehith999/implementation'"
      ]
     },
     "execution_count": 8,
     "metadata": {},
     "output_type": "execute_result"
    }
   ],
   "source": [
    "import jovian\n",
    "jovian.commit(environment=None)"
   ]
  },
  {
   "cell_type": "markdown",
   "metadata": {},
   "source": [
    "## Generic YoloV3 Testing (Frame by Frame)"
   ]
  },
  {
   "cell_type": "code",
   "execution_count": 1,
   "metadata": {},
   "outputs": [
    {
     "name": "stderr",
     "output_type": "stream",
     "text": [
      "Using TensorFlow backend.\n"
     ]
    }
   ],
   "source": [
    "import cv2\n",
    "import time\n",
    "import numpy as np\n",
    "import matplotlib.pyplot as plt\n",
    "from PIL import Image\n",
    "from keras.preprocessing import image\n",
    "from keras.models import load_model\n",
    "import random \n",
    "import imutils\n",
    "import sys"
   ]
  },
  {
   "cell_type": "code",
   "execution_count": 2,
   "metadata": {},
   "outputs": [],
   "source": [
    "class YOLO:\n",
    "\n",
    "    def __init__(self, config, model, labels, size=416, confidence=0.5, threshold=0.3):\n",
    "        self.confidence = confidence\n",
    "        self.threshold = threshold\n",
    "        self.size = size\n",
    "        self.labels = labels\n",
    "        self.net = cv2.dnn.readNetFromDarknet(config, model)\n",
    "\n",
    "    def inference(self, image):\n",
    "        ih, iw = image.shape[:2]\n",
    "\n",
    "        ln = self.net.getLayerNames()\n",
    "        ln = [ln[i[0] - 1] for i in self.net.getUnconnectedOutLayers()]\n",
    "\n",
    "        blob = cv2.dnn.blobFromImage(image, 1 / 255.0, (self.size, self.size), swapRB=True, crop=False)\n",
    "        self.net.setInput(blob)\n",
    "        start = time.time()\n",
    "        layerOutputs = self.net.forward(ln)\n",
    "        end = time.time()\n",
    "        inference_time = end - start\n",
    "\n",
    "        boxes = []\n",
    "        confidences = []\n",
    "        classIDs = []\n",
    "\n",
    "        for output in layerOutputs:\n",
    "            for detection in output:\n",
    "                scores = detection[5:]\n",
    "                classID = np.argmax(scores)\n",
    "                confidence = scores[classID]\n",
    "                if confidence > self.confidence:\n",
    "                    box = detection[0:4] * np.array([iw, ih, iw, ih])\n",
    "                    (centerX, centerY, width, height) = box.astype(\"int\")\n",
    "                    x = int(centerX - (width / 2))\n",
    "                    y = int(centerY - (height / 2))\n",
    "                    boxes.append([x, y, int(width), int(height)])\n",
    "                    confidences.append(float(confidence))\n",
    "                    classIDs.append(classID)\n",
    "\n",
    "        idxs = cv2.dnn.NMSBoxes(boxes, confidences, self.confidence, self.threshold)\n",
    "\n",
    "        results = []\n",
    "        if len(idxs) > 0:\n",
    "            for i in idxs.flatten():\n",
    "                x, y = (boxes[i][0], boxes[i][1])\n",
    "                w, h = (boxes[i][2], boxes[i][3])\n",
    "                id = classIDs[i]\n",
    "                confidence = confidences[i]\n",
    "\n",
    "                results.append((id, self.labels[id], confidence, x, y, w, h))\n",
    "\n",
    "        return iw, ih, inference_time, results\n"
   ]
  },
  {
   "cell_type": "code",
   "execution_count": 3,
   "metadata": {},
   "outputs": [
    {
     "name": "stdout",
     "output_type": "stream",
     "text": [
      "frame:  1\n",
      "frame:  2\n",
      "frame:  3\n",
      "frame:  4\n",
      "frame:  5\n",
      "frame:  6\n",
      "frame:  7\n"
     ]
    }
   ],
   "source": [
    "cap=cv2.VideoCapture('vid1.mp4')\n",
    "img_counter = 0\n",
    "fourcc = cv2.VideoWriter_fourcc(*'XVID')\n",
    "out = cv2.VideoWriter('output.mp4', fourcc, 20.0, (640,  480))\n",
    "yolo = YOLO(\"yolov3_V1_config.cfg\", \"yolov3_V1_config_1000.weights\", [\"Poacher\"])\n",
    "while True:\n",
    "    ret, frame = cap.read()\n",
    "    img_counter += 1\n",
    "    print(\"frame: \", img_counter)\n",
    "    width, height, inference_time, results = yolo.inference(frame)\n",
    "    for detection in results:\n",
    "        id, name, confidence, x, y, w, h = detection\n",
    "        color = (0, 255, 255)\n",
    "        cv2.rectangle(frame, (x, y), (x + w, y + h), color, 2)\n",
    "        cv2.putText(frame, 'Poacher', (x, y - 5), cv2.FONT_HERSHEY_SIMPLEX,0.5, color, 2)\n",
    "    \n",
    "    out.write(frame)\n",
    "    prv = cv2.resize(frame, (500,500))\n",
    "    cv2.imshow(\"preview\", prv)\n",
    "    if cv2.waitKey(1)==ord('q'):\n",
    "        break\n",
    "        \n",
    "cap.release()\n",
    "out.release()\n",
    "cv2.destroyAllWindows()\n"
   ]
  },
  {
   "cell_type": "markdown",
   "metadata": {},
   "source": [
    "## Testing on single image"
   ]
  },
  {
   "cell_type": "code",
   "execution_count": 6,
   "metadata": {},
   "outputs": [
    {
     "data": {
      "text/plain": [
       "-1"
      ]
     },
     "execution_count": 6,
     "metadata": {},
     "output_type": "execute_result"
    }
   ],
   "source": [
    "frame = cv2.imread('C:\\\\Users\\\\vsneh\\\\Udemy-notebooks\\\\Poacher Detection\\\\test_images\\\\1.jpg')\n",
    "x=frame\n",
    "\n",
    "yolo = YOLO(\"yolov3_V1_config.cfg\", \"yolov3_V1_config_1000.weights\", [\"Poacher\"])\n",
    "width, height, inference_time, results = yolo.inference(x)\n",
    "\n",
    "# print(results)\n",
    "for detection in results:\n",
    "    id, name, confidence, x, y, w, h = detection\n",
    "    color = (0, 255, 255)\n",
    "    cv2.rectangle(frame, (x, y), (x + w, y + h), color, 2)\n",
    "    cv2.putText(frame, 'Poacher', (x, y - 5), cv2.FONT_HERSHEY_SIMPLEX,0.5, color, 2)\n",
    "    \n",
    "    print(x,y)\n",
    "frame = cv2.resize(frame, (250,250))\n",
    "cv2.imshow(\"preview\", frame)\n",
    "cv2.waitKey(0)"
   ]
  },
  {
   "cell_type": "markdown",
   "metadata": {},
   "source": [
    "## Testing Video in Batches"
   ]
  },
  {
   "cell_type": "code",
   "execution_count": 2,
   "metadata": {},
   "outputs": [
    {
     "name": "stderr",
     "output_type": "stream",
     "text": [
      "Using TensorFlow backend.\n"
     ]
    }
   ],
   "source": [
    "import cv2\n",
    "import time\n",
    "import numpy as np\n",
    "import matplotlib.pyplot as plt\n",
    "from PIL import Image\n",
    "from keras.preprocessing import image\n",
    "from keras.models import load_model\n",
    "import random \n",
    "import imutils\n",
    "import sys"
   ]
  },
  {
   "cell_type": "code",
   "execution_count": 9,
   "metadata": {},
   "outputs": [],
   "source": [
    "class YOLO:\n",
    "\n",
    "    def __init__(self, config, model, labels, size=416, confidence=0.5, threshold=0.3):\n",
    "        self.confidence = confidence\n",
    "        self.threshold = threshold\n",
    "        self.size = size\n",
    "        self.labels = labels\n",
    "        self.net = cv2.dnn.readNetFromDarknet(config, model)\n",
    "\n",
    "    def inference(self, image):\n",
    "        ih, iw = image.shape[:2]\n",
    "\n",
    "        ln = self.net.getLayerNames()\n",
    "        ln = [ln[i[0] - 1] for i in self.net.getUnconnectedOutLayers()]\n",
    "\n",
    "        blob = cv2.dnn.blobFromImage(image, 1 / 255.0, (self.size, self.size), swapRB=True, crop=False)\n",
    "        self.net.setInput(blob)\n",
    "        start = time.time()\n",
    "        layerOutputs = self.net.forward(ln)\n",
    "        end = time.time()\n",
    "        inference_time = end - start\n",
    "\n",
    "        boxes = []\n",
    "        confidences = []\n",
    "        classIDs = []\n",
    "\n",
    "        for output in layerOutputs:\n",
    "            for detection in output:\n",
    "                scores = detection[5:]\n",
    "                classID = np.argmax(scores)\n",
    "                confidence = scores[classID]\n",
    "                if confidence > self.confidence:\n",
    "                    box = detection[0:4] * np.array([iw, ih, iw, ih])\n",
    "                    (centerX, centerY, width, height) = box.astype(\"int\")\n",
    "                    x = int(centerX - (width / 2))\n",
    "                    y = int(centerY - (height / 2))\n",
    "                    boxes.append([x, y, int(width), int(height)])\n",
    "                    confidences.append(float(confidence))\n",
    "                    classIDs.append(classID)\n",
    "\n",
    "        idxs = cv2.dnn.NMSBoxes(boxes, confidences, self.confidence, self.threshold)\n",
    "\n",
    "        results = []\n",
    "        if len(idxs) > 0:\n",
    "            for i in idxs.flatten():\n",
    "                x, y = (boxes[i][0], boxes[i][1])\n",
    "                w, h = (boxes[i][2], boxes[i][3])\n",
    "                id = classIDs[i]\n",
    "                confidence = confidences[i]\n",
    "                \n",
    "                print(self.labels)\n",
    "                results.append((id, self.labels[id], confidence, x, y, w, h))\n",
    "\n",
    "        return iw, ih, inference_time, results\n"
   ]
  },
  {
   "cell_type": "code",
   "execution_count": null,
   "metadata": {},
   "outputs": [],
   "source": [
    "class Foo(object):\n",
    "    counter = 0\n",
    "    def __call__(self):\n",
    "        Foo.counter += 1\n",
    "        return(Foo.counter)\n",
    "    \n",
    "def email_alert():\n",
    "    import getpass\n",
    "    import smtplib\n",
    "    server = smtplib.SMTP('smtp.gmail.com',587)\n",
    "    server.ehlo()\n",
    "    \n",
    "    server.starttls()\n",
    "    username = 'v.snehith999@gmail.com'\n",
    "    passwd = getpass.getpass()\n",
    "    server.login(username,passwd)\n",
    "\n",
    "\n",
    "    from email.mime.multipart import MIMEMultipart\n",
    "    from email.mime.text import MIMEText\n",
    "    from email.mime.application import MIMEApplication\n",
    "    from datetime import datetime\n",
    "    \n",
    "    msg= MIMEMultipart()\n",
    "    msg['from'] = username\n",
    "    msg['to'] = username\n",
    "    msg['subject'] = \"Images\"\n",
    "    text = \"Found Fire, have a look at sample images\"\n",
    "    msg.attach(MIMEText(text))\n",
    "    F = glob.glob(\"detected-images/*\")\n",
    "    \n",
    "    count = 0\n",
    "    for i in F:\n",
    "        with open(i,'rb') as f:\n",
    "                part = MIMEApplication(f.read())\n",
    "                part.add_header('content-Disposition','attachment',filename='{}.jpg'.format(count+1))\n",
    "                msg.attach(part)\n",
    "    server.sendmail(username,username,msg.as_string())"
   ]
  },
  {
   "cell_type": "code",
   "execution_count": 10,
   "metadata": {},
   "outputs": [
    {
     "name": "stdout",
     "output_type": "stream",
     "text": [
      "frame:  1\n",
      "frame:  2\n",
      "frame:  3\n",
      "['Poacher']\n",
      "frame:  4\n",
      "frame:  5\n",
      "frame:  6\n",
      "['Poacher']\n"
     ]
    }
   ],
   "source": [
    "cap=cv2.VideoCapture('vid1.mp4')\n",
    "img_counter = 0\n",
    "fourcc = cv2.VideoWriter_fourcc(*'XVID')\n",
    "out = cv2.VideoWriter('output.mp4', fourcc, 20.0, (640,  480))\n",
    "yolo = YOLO(\"yolov3_V1_config.cfg\", \"yolov3_V1_config_1000.weights\", [\"Poacher\"])\n",
    "foo = Foo()\n",
    "\n",
    "while True:\n",
    "#     ret, frame = cap.read()\n",
    "    img_counter += 1\n",
    "    frames = []\n",
    "    print(\"frame: \", img_counter)\n",
    "    \n",
    "    for i in range(0, 16):\n",
    "        grabbed, frame = cap.read()\n",
    "        if not grabbed:\n",
    "            print(\"[Info] No frame read from stream - exiting\")\n",
    "            sys.exit(0)\n",
    "            \n",
    "        frame = imutils.resize(frame, width=400)\n",
    "        frames.append(frame)\n",
    "        \n",
    "    width, height, inference_time, results = yolo.inference(frames[-1])\n",
    "    for detection in results:\n",
    "        id, name, confidence, x, y, w, h = detection\n",
    "        color = (0, 255, 255)\n",
    "        cv2.rectangle(frame, (x, y), (x + w, y + h), color, 2)\n",
    "        cv2.putText(frame, 'Poacher', (x, y - 5), cv2.FONT_HERSHEY_SIMPLEX,0.5, color, 2)\n",
    "        cv2.imwrite('detected-images/{}.jpg'.format(img_counter), frame)\n",
    "        if(foo()==3):\n",
    "            print(\"Found poacher more than 3 frames, Raising Email-Alert to {}\".format(username))\n",
    "            email_alert()\n",
    "        \n",
    "    out.write(frame)\n",
    "    prv = cv2.resize(frame, (500,500))\n",
    "    cv2.imshow(\"preview\", prv)\n",
    "    if cv2.waitKey(1)==ord('q'):\n",
    "        break\n",
    "        \n",
    "cap.release()\n",
    "out.release()\n",
    "cv2.destroyAllWindows()\n"
   ]
  },
  {
   "cell_type": "code",
   "execution_count": null,
   "metadata": {},
   "outputs": [],
   "source": []
  }
 ],
 "metadata": {
  "kernelspec": {
   "display_name": "Python 3",
   "language": "python",
   "name": "python3"
  },
  "language_info": {
   "codemirror_mode": {
    "name": "ipython",
    "version": 3
   },
   "file_extension": ".py",
   "mimetype": "text/x-python",
   "name": "python",
   "nbconvert_exporter": "python",
   "pygments_lexer": "ipython3",
   "version": "3.7.5"
  }
 },
 "nbformat": 4,
 "nbformat_minor": 2
}
